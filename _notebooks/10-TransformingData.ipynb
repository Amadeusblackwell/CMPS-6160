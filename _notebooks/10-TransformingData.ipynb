{
 "cells": [
  {
   "cell_type": "markdown",
   "metadata": {},
   "source": [
    "# 10-Transforming Data\n",
    "\n",
    "In this notebook we do a few things with the [Adult Income Dataset](https://www.kaggle.com/uciml/adult-census-income) to illustrate working with relationships between variables.\n",
    "\n"
   ]
  },
  {
   "cell_type": "code",
   "execution_count": null,
   "metadata": {},
   "outputs": [],
   "source": [
    "# Includes and Standard Magic...\n",
    "### Standard Magic and startup initializers.\n",
    "\n",
    "# Load Numpy\n",
    "import numpy as np\n",
    "# Load MatPlotLib\n",
    "import matplotlib\n",
    "import matplotlib.pyplot as plt\n",
    "# Load Pandas\n",
    "import pandas as pd\n",
    "# Load Stats\n",
    "from scipy import stats\n",
    "import seaborn as sns\n",
    "\n",
    "# This lets us show plots inline and also save PDF plots if we want them\n",
    "%matplotlib inline\n",
    "from matplotlib.backends.backend_pdf import PdfPages\n",
    "matplotlib.style.use('fivethirtyeight')\n",
    "\n",
    "# These two things are for Pandas, it widens the notebook and lets us display data easily.\n",
    "from IPython.core.display import display, HTML\n",
    "display(HTML(\"<style>.container { width:95% !important; }</style>\"))\n",
    "\n",
    "# Show a ludicrus number of rows and columns\n",
    "pd.set_option('display.max_rows', 500)\n",
    "pd.set_option('display.max_columns', 500)\n",
    "pd.set_option('display.width', 1000)\n",
    "\n",
    "# Supress scientific notation\n",
    "pd.set_option('display.float_format', lambda x: '%.2f' % x)"
   ]
  },
  {
   "cell_type": "code",
   "execution_count": null,
   "metadata": {},
   "outputs": [],
   "source": [
    "# Load the data\n",
    "# Data from here: https://github.com/joshrosson/NBASalaryPredictions\n",
    "df_nba = pd.read_csv(\"./data/nba_stats.csv\")\n",
    "df_nba.head()"
   ]
  },
  {
   "cell_type": "markdown",
   "metadata": {},
   "source": [
    "Is the data for NBA Salary skewed?  Why?"
   ]
  },
  {
   "cell_type": "code",
   "execution_count": null,
   "metadata": {},
   "outputs": [],
   "source": [
    "# Is the salary skewed?\n",
    "df_nba['Salary'].plot.hist()"
   ]
  },
  {
   "cell_type": "code",
   "execution_count": null,
   "metadata": {},
   "outputs": [],
   "source": [
    "df_nba['Salary'].describe()"
   ]
  },
  {
   "cell_type": "code",
   "execution_count": null,
   "metadata": {},
   "outputs": [],
   "source": [
    "# Transformation functions..\n",
    "x = np.linspace(0.0001, 200, 500)\n",
    "plt.plot(x**1.5, label=\"$x^{1.5}$\")\n",
    "plt.plot(x**1, label=\"f(x)\")\n",
    "plt.plot(x**0.2, label=\"$x^{0.2}$\")\n",
    "#plt.plot(np.log(x), label=\"log(x)\")\n",
    "plt.legend(loc='best')"
   ]
  },
  {
   "cell_type": "code",
   "execution_count": null,
   "metadata": {},
   "outputs": [],
   "source": [
    "# Apply a few functions...\n",
    "(df_nba['Salary']**2).plot.hist()\n",
    "plt.show()\n",
    "(df_nba['Salary']**0.2).plot.hist()\n",
    "plt.show()\n",
    "(np.log(df_nba['Salary'])).plot.hist()\n",
    "plt.show()"
   ]
  },
  {
   "cell_type": "code",
   "execution_count": null,
   "metadata": {},
   "outputs": [],
   "source": [
    "# Uskewing the data can help us to see relationships.\n",
    "# Try 2, 1, 0.2\n",
    "\n",
    "plt.scatter((df_nba['Salary']**1.0), df_nba['PTS'])"
   ]
  },
  {
   "cell_type": "code",
   "execution_count": null,
   "metadata": {},
   "outputs": [],
   "source": [
    "# Z-standardize and replot.\n",
    "df_nba['std_salary'] = (df_nba['Salary'] - df_nba['Salary'].mean()) / df_nba['Salary'].std()\n",
    "df_nba['std_pts'] = (df_nba['PTS'] - df_nba['PTS'].mean()) / df_nba['PTS'].std()\n"
   ]
  },
  {
   "cell_type": "code",
   "execution_count": null,
   "metadata": {},
   "outputs": [],
   "source": [
    "# Plot Salary v. Assists..\n",
    "# Can see a bit more distribution and units are interpretable!\n",
    "df_nba.plot.scatter(x='std_salary', y='std_pts')"
   ]
  },
  {
   "cell_type": "code",
   "execution_count": null,
   "metadata": {},
   "outputs": [],
   "source": [
    "# Compute the whole matrix..\n",
    "df_nba.corr()"
   ]
  },
  {
   "cell_type": "code",
   "execution_count": null,
   "metadata": {},
   "outputs": [],
   "source": [
    "# Compute Some Cross Correlations...\n",
    "plt.figure(figsize = (16,5))\n",
    "sns.heatmap(df_nba.corr(), vmin=-1, vmax=1, cmap=sns.diverging_palette(20, 220, as_cmap=True))"
   ]
  },
  {
   "cell_type": "markdown",
   "metadata": {},
   "source": [
    "# Find the closest players!\n"
   ]
  },
  {
   "cell_type": "code",
   "execution_count": null,
   "metadata": {},
   "outputs": [],
   "source": [
    "# Get a smaller set, drop NA's and get dummies...\n",
    "df_comp = df_nba[['Name', 'Pos', 'Salary', 'PTS', 'TRB']].copy()\n",
    "df_comp.dropna(inplace=True)\n",
    "df_comp.reset_index(drop=True, inplace=True)\n",
    "df_comp"
   ]
  },
  {
   "cell_type": "code",
   "execution_count": null,
   "metadata": {},
   "outputs": [],
   "source": [
    "# get dummies\n",
    "df_ml = pd.get_dummies(df_comp[['Pos', 'Salary', 'PTS', 'TRB']])\n",
    "df_ml"
   ]
  },
  {
   "cell_type": "markdown",
   "metadata": {},
   "source": [
    "We're going to start using [SKLearn](https://scikit-learn.org/stable/modules/classes.html#sklearn-metrics-metrics) we'll get more into it as we go!"
   ]
  },
  {
   "cell_type": "code",
   "execution_count": null,
   "metadata": {},
   "outputs": [],
   "source": [
    "# Use SKLEARN to do soe distances.\n",
    "from sklearn.metrics import pairwise_distances\n",
    "D = pairwise_distances(df_ml, metric=\"euclidean\")\n",
    "D.shape"
   ]
  },
  {
   "cell_type": "code",
   "execution_count": null,
   "metadata": {},
   "outputs": [],
   "source": [
    "# Find someone intersting...\n",
    "df_comp[(df_comp['Name'] == 'Anthony Davis')]"
   ]
  },
  {
   "cell_type": "code",
   "execution_count": null,
   "metadata": {},
   "outputs": [],
   "source": [
    "D[8416, :]"
   ]
  },
  {
   "cell_type": "code",
   "execution_count": null,
   "metadata": {},
   "outputs": [],
   "source": [
    "# Whose the closest\n",
    "D[8416, :].argmin()"
   ]
  },
  {
   "cell_type": "code",
   "execution_count": null,
   "metadata": {},
   "outputs": [],
   "source": [
    "# Wait... that's me...\n",
    "np.fill_diagonal(D, np.inf)"
   ]
  },
  {
   "cell_type": "code",
   "execution_count": null,
   "metadata": {},
   "outputs": [],
   "source": [
    "D[8416, :].argmin()"
   ]
  },
  {
   "cell_type": "code",
   "execution_count": null,
   "metadata": {},
   "outputs": [],
   "source": [
    "df_comp.loc[8547]"
   ]
  },
  {
   "cell_type": "markdown",
   "metadata": {},
   "source": [
    "## Probability and Code!\n",
    "\n",
    "Note we're using [Numpy's probability functions](https://numpy.org/doc/stable/reference/random/index.html), you could also use [Python's](https://docs.python.org/3/library/random.html)"
   ]
  },
  {
   "cell_type": "code",
   "execution_count": null,
   "metadata": {},
   "outputs": [],
   "source": [
    "# Let's make a probability distribution:\n",
    "outcomes = list(range(1,7))\n",
    "outcomes"
   ]
  },
  {
   "cell_type": "code",
   "execution_count": null,
   "metadata": {},
   "outputs": [],
   "source": [
    "#Simulate an outcome..\n",
    "np.random.choice(outcomes)"
   ]
  },
  {
   "cell_type": "code",
   "execution_count": null,
   "metadata": {},
   "outputs": [],
   "source": [
    "# Do it a lot...\n",
    "np.random.choice(outcomes, 20)"
   ]
  },
  {
   "cell_type": "code",
   "execution_count": null,
   "metadata": {},
   "outputs": [],
   "source": [
    "# Graph it!\n",
    "results = pd.DataFrame(np.random.choice(outcomes, 1000))\n",
    "results.plot.hist(bins=np.arange(0.5,7.5, 1))"
   ]
  },
  {
   "cell_type": "code",
   "execution_count": null,
   "metadata": {},
   "outputs": [],
   "source": [
    "# Do it with a biased coin..\n",
    "b = 1.0 / 7.0\n",
    "b1 = 2.0 / 7.0\n",
    "results = pd.DataFrame(np.random.choice(outcomes, 1000, p=[b, b, b1, b, b, b]))\n",
    "results.plot.hist(bins=np.arange(0.5,7.5, 1))"
   ]
  },
  {
   "cell_type": "code",
   "execution_count": null,
   "metadata": {},
   "outputs": [],
   "source": [
    "# Do it for multiple events!\n",
    "die1 = np.random.choice(outcomes, 100)\n",
    "die2 = np.random.choice(outcomes, 100)\n",
    "results = pd.DataFrame({'Die1': die1, 'Die2':die2})\n",
    "results.head()"
   ]
  },
  {
   "cell_type": "code",
   "execution_count": null,
   "metadata": {},
   "outputs": [],
   "source": [
    "# Need to add them up...\n",
    "plt.figure(figsize = (12,5))\n",
    "results['sum'] = results[\"Die1\"] + results[\"Die2\"]\n",
    "results['sum'].plot.hist(bins=np.arange(1.5, 13.5, 1), density=True)"
   ]
  },
  {
   "cell_type": "code",
   "execution_count": null,
   "metadata": {},
   "outputs": [],
   "source": [
    "# Default is with replacement but we can do without replacement..\n",
    "people = ['Winona', 'Xanthippe', 'Yvonne', 'Zelda']\n",
    "np.random.choice(people, 3, replace=False)"
   ]
  },
  {
   "cell_type": "markdown",
   "metadata": {},
   "source": [
    "## Looking at Two Variables.\n",
    "\n",
    "Let's roll two dice a bunch of times and see the resutls.\n"
   ]
  },
  {
   "cell_type": "code",
   "execution_count": null,
   "metadata": {},
   "outputs": [],
   "source": [
    "die1 = np.random.choice(outcomes, 100)\n",
    "die2 = np.random.choice(outcomes, 100)\n",
    "results = pd.DataFrame({'Die1': die1, 'Die2':die2})"
   ]
  },
  {
   "cell_type": "code",
   "execution_count": null,
   "metadata": {},
   "outputs": [],
   "source": [
    "counts = pd.crosstab(results['Die1'], results['Die2'])\n",
    "counts"
   ]
  },
  {
   "cell_type": "code",
   "execution_count": null,
   "metadata": {},
   "outputs": [],
   "source": [
    "joint = pd.crosstab(results['Die1'], results['Die2'], normalize=True)\n",
    "joint"
   ]
  },
  {
   "cell_type": "code",
   "execution_count": null,
   "metadata": {},
   "outputs": [],
   "source": [
    "# Now we can roll this up for either die to see it's distribution\n",
    "joint.sum(axis=0)"
   ]
  },
  {
   "cell_type": "code",
   "execution_count": null,
   "metadata": {},
   "outputs": [],
   "source": [
    "# Can also get marginals directly.\n",
    "marginals = pd.crosstab(results['Die1'], results['Die2'], normalize=True, margins=True)\n",
    "marginals"
   ]
  },
  {
   "cell_type": "code",
   "execution_count": null,
   "metadata": {},
   "outputs": [],
   "source": [
    "# Finally, if we want conditional distributions we have to do a bit of work. Let's try to work out\n",
    "# P(Die 1 is a 6 | Die 2 is a 5)\n",
    "\n",
    "counts = pd.crosstab(results['Die1'], results['Die2'])\n",
    "counts"
   ]
  },
  {
   "cell_type": "code",
   "execution_count": null,
   "metadata": {},
   "outputs": [],
   "source": [
    "# We need to get the (Die 2 is a 5 row) and then look at the distribution there..\n",
    "\n",
    "counts[5] / counts[5].sum()"
   ]
  },
  {
   "cell_type": "markdown",
   "metadata": {},
   "source": [
    "## Using Simulation to Answer Probability Questions.\n",
    "\n",
    "In CMPS 2170 we figured out closed form formulas for a set of mutually independent Bernoilli Trials.\n",
    "\n",
    "* Bernoulli Trial: an experiment with two possible outcomes\n",
    "* E.g., flip a coin results in two possible outcomes: head (𝐻) and tail (𝑇)\n",
    "* Independent Bernoulli Trials: a sequence of Bernoulli trails that are mutually independent\n",
    "\n",
    "* Example: What is the probability of the sequence HHHTT for a coin flip sequence with $p$ for H and $1-p$ for T? -- $p^3(1-p)^2$.\n",
    "\n",
    "Recall: The probability of exactly $k$ successes in $n$ independent Bernoulli trials, with probability of success $p$ and probability of failure $q = 1 − p$, is $C(n,k)p^kq^{n-k}$ where $C(n,k)$ is $n$ choose $k$."
   ]
  },
  {
   "cell_type": "code",
   "execution_count": null,
   "metadata": {},
   "outputs": [],
   "source": [
    "# Setup a biased coin and flip it a bunch..\n",
    "coin_results = np.random.choice([\"Heads\", \"Tails\"], 100, p=[0.75, 0.25])\n",
    "coin_results"
   ]
  },
  {
   "cell_type": "markdown",
   "metadata": {},
   "source": [
    "## A More complex Question..\n",
    "\n",
    "* What is the probability of getting 60 or more heads if I flip 100 coins?\n",
    "* Approximation through simulation:\n",
    "  1. Figure out how to do one experiment (i.e., flip 100 coins).\n",
    "  2. Run the experiment a bunch of times.\n",
    "  3. Find the fraction of times where number of heads >= 60."
   ]
  },
  {
   "cell_type": "code",
   "execution_count": null,
   "metadata": {},
   "outputs": [],
   "source": [
    "# Flip 100 coins and count heads...\n",
    "coin_results = np.random.choice([\"Heads\", \"Tails\"], 100, p=[0.75, 0.25])\n",
    "print(coin_results == 'Heads')\n",
    "print(np.count_nonzero(coin_results == 'Heads'))\n"
   ]
  },
  {
   "cell_type": "code",
   "execution_count": null,
   "metadata": {},
   "outputs": [],
   "source": [
    "# Wrap it up and do it a bunch...\n",
    "# Note we're using Numpy here for broadcasting -- numpy arrays are imuteable so \n",
    "# it's a tad more akaward in places..\n",
    "n_reps = 10000\n",
    "\n",
    "def exp():\n",
    "    coin_results = np.random.choice([\"Heads\", \"Tails\"], 100, p=[0.75, 0.25])\n",
    "    return np.count_nonzero(coin_results == 'Heads')\n",
    "\n",
    "head_counts = np.array([])\n",
    "for i in range(n_reps):\n",
    "    head_counts = np.append(head_counts, exp())"
   ]
  },
  {
   "cell_type": "code",
   "execution_count": null,
   "metadata": {},
   "outputs": [],
   "source": [
    "# Figure it out...\n",
    "print(np.count_nonzero(head_counts >= 60))\n",
    "print(np.count_nonzero(head_counts >= 60) / n_reps)"
   ]
  },
  {
   "cell_type": "markdown",
   "metadata": {},
   "source": [
    "If we work out the math we need at least 60 H so we have to add up quite a few things...\n",
    "$\\sum^{100}_{k=60} C(100, k)p^kq^n-k$"
   ]
  },
  {
   "cell_type": "code",
   "execution_count": null,
   "metadata": {},
   "outputs": [],
   "source": [
    "# Using simiulation we can also look at the trials.\n",
    "\n",
    "head_counts = np.array([])\n",
    "for i in range(n_reps):\n",
    "    head_counts = np.append(head_counts, exp())\n",
    "\n",
    "results = pd.DataFrame(head_counts)\n",
    "results.plot.hist()"
   ]
  },
  {
   "cell_type": "markdown",
   "metadata": {},
   "source": [
    "## Settle the Monty Hall Thing..."
   ]
  },
  {
   "cell_type": "code",
   "execution_count": null,
   "metadata": {},
   "outputs": [],
   "source": [
    "def simulate_monty_hall():\n",
    "    behind_picked_door = np.random.choice(['Car', 'Goat 1', 'Goat 2'])\n",
    "    \n",
    "    if behind_picked_door == 'Car':\n",
    "        winning_strategy = 'Stay'\n",
    "    else:\n",
    "        winning_strategy = 'Switch'\n",
    "        \n",
    "    print(behind_picked_door, 'was behind the door. Winning strategy:', winning_strategy)\n",
    "    return winning_strategy\n",
    "simulate_monty_hall()"
   ]
  },
  {
   "cell_type": "code",
   "execution_count": null,
   "metadata": {},
   "outputs": [],
   "source": [
    "# Run it a bunch...\n",
    "n_repetitions = 10000\n",
    "\n",
    "winning_strategies = np.array([])\n",
    "for i in np.arange(n_repetitions):\n",
    "    winning_strategy = simulate_monty_hall()\n",
    "    winning_strategies = np.append(winning_strategies, winning_strategy)\n"
   ]
  },
  {
   "cell_type": "code",
   "execution_count": null,
   "metadata": {},
   "outputs": [],
   "source": [
    "np.count_nonzero(winning_strategies == 'Switch') / n_repetitions"
   ]
  },
  {
   "cell_type": "code",
   "execution_count": null,
   "metadata": {},
   "outputs": [],
   "source": [
    "np.count_nonzero(winning_strategies == 'Stay') / n_repetitions"
   ]
  },
  {
   "cell_type": "code",
   "execution_count": null,
   "metadata": {},
   "outputs": [],
   "source": []
  }
 ],
 "metadata": {
  "kernelspec": {
   "display_name": "Python 3",
   "language": "python",
   "name": "python3"
  },
  "language_info": {
   "codemirror_mode": {
    "name": "ipython",
    "version": 3
   },
   "file_extension": ".py",
   "mimetype": "text/x-python",
   "name": "python",
   "nbconvert_exporter": "python",
   "pygments_lexer": "ipython3",
   "version": "3.8.3"
  }
 },
 "nbformat": 4,
 "nbformat_minor": 4
}
