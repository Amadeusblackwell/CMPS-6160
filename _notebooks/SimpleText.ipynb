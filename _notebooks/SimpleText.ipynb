{
 "cells": [
  {
   "cell_type": "markdown",
   "metadata": {},
   "source": [
    "# Simple Text\n",
    "\n",
    "In this example we go through a light example of processing a dataset for analyzing text!\n",
    "\n",
    "The data comes from this [website at Cornell](http://www.cs.cornell.edu/people/pabo/movie-review-data/) and is from Bo Pang and Lillian Lee, A Sentimental Education: Sentiment Analysis Using Subjectivity Summarization Based on Minimum Cuts, Proceedings of ACL 2004.\n",
    "\n",
    "This contains 1000 positive and 1000 negative reviews."
   ]
  },
  {
   "cell_type": "code",
   "execution_count": 1,
   "metadata": {},
   "outputs": [
    {
     "data": {
      "text/html": [
       "<style>.container { width:95% !important; }</style>"
      ],
      "text/plain": [
       "<IPython.core.display.HTML object>"
      ]
     },
     "metadata": {},
     "output_type": "display_data"
    }
   ],
   "source": [
    "# Includes and Standard Magic...\n",
    "### Standard Magic and startup initializers.\n",
    "\n",
    "# Load Numpy\n",
    "import numpy as np\n",
    "# Load MatPlotLib\n",
    "import matplotlib\n",
    "import matplotlib.pyplot as plt\n",
    "# Load Pandas\n",
    "import pandas as pd\n",
    "# Load SQLITE\n",
    "import sqlite3\n",
    "# Load Stats\n",
    "from scipy import stats\n",
    "\n",
    "# This lets us show plots inline and also save PDF plots if we want them\n",
    "%matplotlib inline\n",
    "from matplotlib.backends.backend_pdf import PdfPages\n",
    "matplotlib.style.use('fivethirtyeight')\n",
    "\n",
    "# These two things are for Pandas, it widens the notebook and lets us display data easily.\n",
    "from IPython.core.display import display, HTML\n",
    "display(HTML(\"<style>.container { width:95% !important; }</style>\"))"
   ]
  },
  {
   "cell_type": "code",
   "execution_count": 2,
   "metadata": {},
   "outputs": [],
   "source": [
    "# These are both in huge directories so let's make 2 data frames.\n",
    "\n",
    "import glob\n",
    "\n",
    "all_pos = glob.glob(\"./data/review_polarity/pos/*\")\n",
    "all_neg = glob.glob(\"./data/review_polarity/neg/*\")\n",
    "    "
   ]
  },
  {
   "cell_type": "code",
   "execution_count": 3,
   "metadata": {},
   "outputs": [
    {
     "data": {
      "text/plain": [
       "['assume nothing . \\n',\n",
       " \"the phrase is perhaps one of the most used of the 1990's , as first impressions and rumors are hardly ever what they seem to be . \\n\",\n",
       " 'the phrase especially goes for oscar novak , an architect who is the main focus of three to tango , a delightful , funny romantic comedy about assumptions and being yourself . \\n',\n",
       " 'novak ( matthew perry ) , a shy , clumsy , chicago based architect , along with openly gay partner , peter steinberg ( oliver platt ) , fights for projects day in and day out . \\n',\n",
       " 'one of these is the job of restoring a popular building for charles newman ( dylan mcdermott ) , a rich , well-known businessman . \\n',\n",
       " 'charles immediately takes a liking to oscar , as he enjoys his personality and sense of humor . \\n',\n",
       " 'seeing oscar as someone he could trust , charles asks him to watch his girlfriend , an unpredictable , adventurous girl named amy post ( neve campbell ) , who makes a living by blowing glass . \\n',\n",
       " 'charles wants to know who she talks to , what she does , and where she goes . \\n',\n",
       " 'the point ? \\n',\n",
       " \"to make sure she's not seeing someone else , of course . \\n\",\n",
       " 'oscar gladly takes the job , and meets amy at an art show of hers , and sparks fly between the two from the get go . \\n',\n",
       " 'oscar feels he has found the one meant for him , and he is content with the idea of being with amy . \\n',\n",
       " 'well , another popular phrase of the 90\\'s is \" all good things must come to an end , \" and this stays true for oscar as well . \\n',\n",
       " \"charles walks in on amy and oscar having a drink one night , as oscar and amy have become great friends , but he doesn't seem to mind . \\n\",\n",
       " 'why is this ? \\n',\n",
       " 'he thinks oscar is gay . \\n',\n",
       " \"he's not afraid to share this with him either . \\n\",\n",
       " 'oscar stands in shock after the words , \" i swear if you weren\\'t gay oscar , i\\'d have to kill you , \" are muttered flamboyantly from charles\\' mouth . \\n',\n",
       " 'the word spreads instantly through town . \\n',\n",
       " 'will oscar \" come out \" of his supposed gayness , or will he tell everyone that he isn\\'t ? \\n',\n",
       " 'one would immediately think he would deny the fact , but numerous occurrences come to oscar , which result in the fact that if he denies the fact , he could lose his job with charles . \\n',\n",
       " \"matthew perry doesn't escape his character as chandler on the already classic t . v . \\n\",\n",
       " 'comedy \" friends , \" as both oscar novak and chandler are clueless , shy , and sensitive . \\n',\n",
       " 'nonetheless , perry is hilarious here , and shows that he can handle drama , as obviously , his character suffers quite a bit here . \\n',\n",
       " \"it's wonderful to see neve campbell outside of a horror movie , ( she was the star of scream 1 and 2 , and the upcoming scream 3 ) as she handles comedy superbly here . \\n\",\n",
       " 'her voice , smile , and personality are more than perfect for romantic comedies- stay with this genre , neve . \\n',\n",
       " 'neve is delightful as her conflicted character , who feels love for oscar , but knows , based on rumors , that he is gay . \\n',\n",
       " 'as usual , campbell is likable as her likable character . \\n',\n",
       " 'unlike the other two leads here , dylan mcdermott is flat in his dialogue , and is never convincing . \\n',\n",
       " 'when his character his present , mcdermott sets a dull tone to the scene with his horrible acting . \\n',\n",
       " 'stick to the t . v . \\n',\n",
       " 'drama , the practice , dylan . \\n',\n",
       " 'the major weak spot in three to tango is the direction of damon santostefano . \\n',\n",
       " 'no originality or technique is used whatsoever . \\n',\n",
       " 'three to tango is lucky that the script is so edgy and that perry and campbell are wonderful in comedy , or else the film would have been a disaster , as it is just plain boring to look at . \\n',\n",
       " \"three to tango is a film done many times before , as the plot is suspiciously close to 1998's the object of my affection , but the plot has never been completed so well . \\n\",\n",
       " \"three to tango's script , written by rodney patrick vaccaro and aline brosh mckenna is fun , fast , and funny , delivering not only original , hilarious gay jokes ( not your run of the mill material ) , but a certain snappiness in the dialogue between characters that always keeps you smiling . \\n\",\n",
       " \"unlike last summer's south park : bigger , longer , and uncut and 1997's in & out , three to tango is a comedy in which the gay element is not crude or vulgar . \\n\",\n",
       " \"the script is wise to take this route , as gays can't ( i don't think so , anyway ) be offended by this light , playful comedy . \\n\",\n",
       " ' ( to prove this , a gay couple was in the audience who were laughing constantly . ) \\n',\n",
       " \"three to tango's climax is a hilarious , clever scene that is pure irony based on the outcome of most romantic-mistaken identity comedies . \\n\",\n",
       " 'three to tango is a gem . \\n',\n",
       " 'the bottom line : three to tango is a light , sharp , snappy romantic comedy with a superb ending , and great stars . \\n',\n",
       " 'one of the better romantic comedies of 1999 . \\n']"
      ]
     },
     "execution_count": 3,
     "metadata": {},
     "output_type": "execute_result"
    }
   ],
   "source": [
    "# Let's look at a review and see what's up..\n",
    "with open('./data/review_polarity/pos/cv839_21467.txt') as f:\n",
    "    x = f.readlines()\n",
    "x"
   ]
  },
  {
   "cell_type": "code",
   "execution_count": 5,
   "metadata": {},
   "outputs": [
    {
     "data": {
      "text/plain": [
       "'assume nothing    the phrase is perhaps one of the most used of the 1990 s   as first impressions and rumors are hardly ever what they seem to be    the phrase especially goes for oscar novak   an architect who is the main focus of three to tango   a delightful   funny romantic comedy about assumptions and being yourself    novak ( matthew perry )   a shy   clumsy   chicago based architect   along with openly gay partner   peter steinberg ( oliver platt )   fights for projects day in and day out    one of these is the job of restoring a popular building for charles newman ( dylan mcdermott )   a rich   well-known businessman    charles immediately takes a liking to oscar   as he enjoys his personality and sense of humor    seeing oscar as someone he could trust   charles asks him to watch his girlfriend   an unpredictable   adventurous girl named amy post ( neve campbell )   who makes a living by blowing glass    charles wants to know who she talks to   what she does   and where she goes    the point ?  to make sure she s not seeing someone else   of course    oscar gladly takes the job   and meets amy at an art show of hers   and sparks fly between the two from the get go    oscar feels he has found the one meant for him   and he is content with the idea of being with amy    well   another popular phrase of the 90 s is   all good things must come to an end     and this stays true for oscar as well    charles walks in on amy and oscar having a drink one night   as oscar and amy have become great friends   but he doesn t seem to mind    why is this ?  he thinks oscar is gay    he s not afraid to share this with him either    oscar stands in shock after the words     i swear if you weren t gay oscar   i d have to kill you     are muttered flamboyantly from charles  mouth    the word spreads instantly through town    will oscar   come out   of his supposed gayness   or will he tell everyone that he isn t ?  one would immediately think he would deny the fact   but numerous occurrences come to oscar   which result in the fact that if he denies the fact   he could lose his job with charles    matthew perry doesn t escape his character as chandler on the already classic t   v    comedy   friends     as both oscar novak and chandler are clueless   shy   and sensitive    nonetheless   perry is hilarious here   and shows that he can handle drama   as obviously   his character suffers quite a bit here    it s wonderful to see neve campbell outside of a horror movie   ( she was the star of scream 1 and 2   and the upcoming scream 3 ) as she handles comedy superbly here    her voice   smile   and personality are more than perfect for romantic comedies- stay with this genre   neve    neve is delightful as her conflicted character   who feels love for oscar   but knows   based on rumors   that he is gay    as usual   campbell is likable as her likable character    unlike the other two leads here   dylan mcdermott is flat in his dialogue   and is never convincing    when his character his present   mcdermott sets a dull tone to the scene with his horrible acting    stick to the t   v    drama   the practice   dylan    the major weak spot in three to tango is the direction of damon santostefano    no originality or technique is used whatsoever    three to tango is lucky that the script is so edgy and that perry and campbell are wonderful in comedy   or else the film would have been a disaster   as it is just plain boring to look at    three to tango is a film done many times before   as the plot is suspiciously close to 1998 s the object of my affection   but the plot has never been completed so well    three to tango s script   written by rodney patrick vaccaro and aline brosh mckenna is fun   fast   and funny   delivering not only original   hilarious gay jokes ( not your run of the mill material )   but a certain snappiness in the dialogue between characters that always keeps you smiling    unlike last summer s south park : bigger   longer   and uncut and 1997 s in & out   three to tango is a comedy in which the gay element is not crude or vulgar    the script is wise to take this route   as gays can t ( i don t think so   anyway ) be offended by this light   playful comedy     ( to prove this   a gay couple was in the audience who were laughing constantly   )  three to tango s climax is a hilarious   clever scene that is pure irony based on the outcome of most romantic-mistaken identity comedies    three to tango is a gem    the bottom line : three to tango is a light   sharp   snappy romantic comedy with a superb ending   and great stars    one of the better romantic comedies of 1999    '"
      ]
     },
     "execution_count": 5,
     "metadata": {},
     "output_type": "execute_result"
    }
   ],
   "source": [
    "# It's a little messy so let's clean out some of the stuff and join it into one documet.\n",
    "import re\n",
    "re.sub(r'[.,\\'\\\"\\s\\s+]', \" \", \"\".join(x))"
   ]
  },
  {
   "cell_type": "code",
   "execution_count": 17,
   "metadata": {},
   "outputs": [],
   "source": [
    "# So now we're read to read and fix up each of the reviews.\n",
    "\n",
    "revs = []\n",
    "\n",
    "for fname in all_pos:\n",
    "    rec = {}\n",
    "    with open(fname) as f:\n",
    "        x = f.readlines()\n",
    "    rec['text'] = re.sub(r'[.,\\'\\\"\\s\\s+]', \" \", \"\".join(x))\n",
    "    rec['sentiment'] = 'positive'\n",
    "    revs.append(rec)\n",
    "\n",
    "for fname in all_neg:\n",
    "    rec = {}\n",
    "    with open(fname) as f:\n",
    "        x = f.readlines()\n",
    "    rec['text'] = re.sub(r'[.,\\'\\\"\\s\\s+]', \" \", \"\".join(x))\n",
    "    rec['sentiment'] = 'negative'\n",
    "    revs.append(rec)\n",
    "    \n",
    "df_reviews = pd.DataFrame(revs)"
   ]
  },
  {
   "cell_type": "code",
   "execution_count": 18,
   "metadata": {},
   "outputs": [
    {
     "data": {
      "text/html": [
       "<div>\n",
       "<style scoped>\n",
       "    .dataframe tbody tr th:only-of-type {\n",
       "        vertical-align: middle;\n",
       "    }\n",
       "\n",
       "    .dataframe tbody tr th {\n",
       "        vertical-align: top;\n",
       "    }\n",
       "\n",
       "    .dataframe thead th {\n",
       "        text-align: right;\n",
       "    }\n",
       "</style>\n",
       "<table border=\"1\" class=\"dataframe\">\n",
       "  <thead>\n",
       "    <tr style=\"text-align: right;\">\n",
       "      <th></th>\n",
       "      <th>text</th>\n",
       "      <th>sentiment</th>\n",
       "    </tr>\n",
       "  </thead>\n",
       "  <tbody>\n",
       "    <tr>\n",
       "      <th>0</th>\n",
       "      <td>assume nothing    the phrase is perhaps one of...</td>\n",
       "      <td>positive</td>\n",
       "    </tr>\n",
       "    <tr>\n",
       "      <th>1</th>\n",
       "      <td>plot : derek zoolander is a male model    he i...</td>\n",
       "      <td>positive</td>\n",
       "    </tr>\n",
       "    <tr>\n",
       "      <th>2</th>\n",
       "      <td>i actually am a fan of the original 1961 or so...</td>\n",
       "      <td>positive</td>\n",
       "    </tr>\n",
       "    <tr>\n",
       "      <th>3</th>\n",
       "      <td>a movie that s been as highly built up as the ...</td>\n",
       "      <td>positive</td>\n",
       "    </tr>\n",
       "    <tr>\n",
       "      <th>4</th>\n",
       "      <td>good will hunting   is two movies in one : ...</td>\n",
       "      <td>positive</td>\n",
       "    </tr>\n",
       "    <tr>\n",
       "      <th>...</th>\n",
       "      <td>...</td>\n",
       "      <td>...</td>\n",
       "    </tr>\n",
       "    <tr>\n",
       "      <th>1995</th>\n",
       "      <td>synopsis : when a meteorite crashlands in the ...</td>\n",
       "      <td>negative</td>\n",
       "    </tr>\n",
       "    <tr>\n",
       "      <th>1996</th>\n",
       "      <td>it s now the anniversary of the slayings of ju...</td>\n",
       "      <td>negative</td>\n",
       "    </tr>\n",
       "    <tr>\n",
       "      <th>1997</th>\n",
       "      <td>coinciding with the emerging popularity of mov...</td>\n",
       "      <td>negative</td>\n",
       "    </tr>\n",
       "    <tr>\n",
       "      <th>1998</th>\n",
       "      <td>and now the high-flying hong kong style of fil...</td>\n",
       "      <td>negative</td>\n",
       "    </tr>\n",
       "    <tr>\n",
       "      <th>1999</th>\n",
       "      <td>battlefield long   boring and just plain stupi...</td>\n",
       "      <td>negative</td>\n",
       "    </tr>\n",
       "  </tbody>\n",
       "</table>\n",
       "<p>2000 rows × 2 columns</p>\n",
       "</div>"
      ],
      "text/plain": [
       "                                                   text sentiment\n",
       "0     assume nothing    the phrase is perhaps one of...  positive\n",
       "1     plot : derek zoolander is a male model    he i...  positive\n",
       "2     i actually am a fan of the original 1961 or so...  positive\n",
       "3     a movie that s been as highly built up as the ...  positive\n",
       "4        good will hunting   is two movies in one : ...  positive\n",
       "...                                                 ...       ...\n",
       "1995  synopsis : when a meteorite crashlands in the ...  negative\n",
       "1996  it s now the anniversary of the slayings of ju...  negative\n",
       "1997  coinciding with the emerging popularity of mov...  negative\n",
       "1998  and now the high-flying hong kong style of fil...  negative\n",
       "1999  battlefield long   boring and just plain stupi...  negative\n",
       "\n",
       "[2000 rows x 2 columns]"
      ]
     },
     "execution_count": 18,
     "metadata": {},
     "output_type": "execute_result"
    }
   ],
   "source": [
    "df_reviews"
   ]
  },
  {
   "cell_type": "markdown",
   "metadata": {},
   "source": [
    "## Now for the fun part...\n",
    "\n",
    "Now that we have some data to work with let's make some tf-idf vectors\n",
    "\n",
    "We're going to work with [tf-idf vectorizer from sklearn](https://scikit-learn.org/stable/modules/generated/sklearn.feature_extraction.text.TfidfVectorizer.html)\n",
    "\n",
    "There are other options and a lot more you could do using sklearn! [See here](https://scikit-learn.org/stable/modules/feature_extraction.html#text-feature-extraction)."
   ]
  },
  {
   "cell_type": "code",
   "execution_count": 56,
   "metadata": {},
   "outputs": [],
   "source": [
    "# Vectorize the whole thing...\n",
    "import sklearn\n",
    "from sklearn.feature_extraction.text import TfidfVectorizer\n",
    "from sklearn.linear_model import LogisticRegression\n",
    "from sklearn.model_selection import train_test_split"
   ]
  },
  {
   "cell_type": "code",
   "execution_count": 57,
   "metadata": {},
   "outputs": [
    {
     "data": {
      "text/plain": [
       "<2000x1095 sparse matrix of type '<class 'numpy.float64'>'\n",
       "\twith 343469 stored elements in Compressed Sparse Row format>"
      ]
     },
     "execution_count": 57,
     "metadata": {},
     "output_type": "execute_result"
    }
   ],
   "source": [
    "# Vectorize and play with token sizes...\n",
    "vec = TfidfVectorizer(min_df = 0.05, \n",
    "                      max_df = 0.85, \n",
    "                      ngram_range=(1,1)) # play with min_df and max_df\n",
    "\n",
    "# transform this into a sparse vector!\n",
    "vec.fit(df_reviews['text'])\n",
    "tf_idf_sparse = vec.transform(df_reviews[\"text\"])\n",
    "tf_idf_sparse"
   ]
  },
  {
   "cell_type": "markdown",
   "metadata": {},
   "source": [
    "What we're doing above is taking the reviews, and computing the tfidf scores for them if we cut off min_df and max_df, so we get letf with fewer words.  We can see the set of words along with the actual tfidf vectors!"
   ]
  },
  {
   "cell_type": "code",
   "execution_count": 37,
   "metadata": {},
   "outputs": [
    {
     "name": "stdout",
     "output_type": "stream",
     "text": [
      "  (0, 1094)\t0.04743827877186096\n",
      "  (0, 1093)\t0.02758215573084594\n",
      "  (0, 1091)\t0.04763382198802594\n",
      "  (0, 1083)\t0.0334324321674167\n",
      "  (0, 1077)\t0.05713625342189727\n",
      "  (0, 1068)\t0.04092056427905962\n",
      "  (0, 1067)\t0.04022906716224983\n",
      "  (0, 1066)\t0.08358391490689109\n",
      "  (0, 1055)\t0.03950117692141767\n",
      "  (0, 1052)\t0.027074501372070604\n",
      "  (0, 1046)\t0.03442130116997448\n",
      "  (0, 1044)\t0.0214524726019578\n",
      "  (0, 1043)\t0.016077575018167947\n",
      "  (0, 1041)\t0.03300862612480805\n",
      "  (0, 1040)\t0.02447328900505239\n",
      "  (0, 1038)\t0.07859567399153064\n",
      "  (0, 1032)\t0.029829606863754604\n",
      "  (0, 1028)\t0.03137930283380131\n",
      "  (0, 1026)\t0.03239470696240463\n",
      "  (0, 1022)\t0.040791877507975124\n",
      "  (0, 1007)\t0.04366655094211847\n",
      "  (0, 1004)\t0.06952076286106318\n",
      "  (0, 998)\t0.08749578859632079\n",
      "  (0, 990)\t0.039706231208588315\n",
      "  (0, 980)\t0.03437672859128048\n",
      "  :\t:\n",
      "  (0, 129)\t0.03355322725030074\n",
      "  (0, 122)\t0.048476321660917664\n",
      "  (0, 108)\t0.026389772946399426\n",
      "  (0, 107)\t0.03912012215663593\n",
      "  (0, 101)\t0.031059015145505648\n",
      "  (0, 96)\t0.050607871550267115\n",
      "  (0, 95)\t0.025214714638406344\n",
      "  (0, 90)\t0.04537486903014554\n",
      "  (0, 85)\t0.02447328900505239\n",
      "  (0, 84)\t0.039118506614489616\n",
      "  (0, 81)\t0.03134995692626751\n",
      "  (0, 75)\t0.10082527039363134\n",
      "  (0, 66)\t0.026061344139146323\n",
      "  (0, 60)\t0.0468977103827452\n",
      "  (0, 57)\t0.04295795519746337\n",
      "  (0, 48)\t0.04172266503584615\n",
      "  (0, 44)\t0.02337063756822215\n",
      "  (0, 35)\t0.030497216109809665\n",
      "  (0, 32)\t0.036884368377745745\n",
      "  (0, 31)\t0.030442437700130685\n",
      "  (0, 28)\t0.014850102294113049\n",
      "  (0, 19)\t0.019784668220667042\n",
      "  (0, 9)\t0.028202512482597003\n",
      "  (0, 4)\t0.015977348189401528\n",
      "  (0, 1)\t0.04766141872757639\n"
     ]
    }
   ],
   "source": [
    "# and for a review we can see the ROW of it's encoding.\n",
    "\n",
    "print(tf_idf_sparse[0, :])"
   ]
  },
  {
   "cell_type": "code",
   "execution_count": 38,
   "metadata": {},
   "outputs": [],
   "source": [
    "# We can now use this to classify the reviews!! but we need to test/train split again.\n",
    "\n",
    "# Split..\n",
    "X_train, X_test, y_train, y_test = train_test_split(tf_idf_sparse, \n",
    "                                                    df_reviews['sentiment'], \n",
    "                                                    test_size=0.2)"
   ]
  },
  {
   "cell_type": "code",
   "execution_count": 39,
   "metadata": {},
   "outputs": [],
   "source": [
    "logisticRegr = LogisticRegression(max_iter=100000, class_weight='balanced') \n",
    "model = logisticRegr.fit(X_train, y_train)"
   ]
  },
  {
   "cell_type": "code",
   "execution_count": 40,
   "metadata": {},
   "outputs": [
    {
     "name": "stdout",
     "output_type": "stream",
     "text": [
      "0.825\n"
     ]
    },
    {
     "data": {
      "text/plain": [
       "<sklearn.metrics._plot.confusion_matrix.ConfusionMatrixDisplay at 0x13981ad00>"
      ]
     },
     "execution_count": 40,
     "metadata": {},
     "output_type": "execute_result"
    },
    {
     "data": {
      "image/png": "[encoded data removed]",
      "text/plain": [
       "<Figure size 432x288 with 2 Axes>"
      ]
     },
     "metadata": {},
     "output_type": "display_data"
    }
   ],
   "source": [
    "# As always we should check our confusing matrix...\n",
    "# Check and confusion matrix...\n",
    "from sklearn.metrics import accuracy_score, plot_confusion_matrix\n",
    "import matplotlib.pyplot as plt\n",
    "y_pred = model.predict(X_test)\n",
    "print(accuracy_score(y_test, y_pred))\n",
    "plot_confusion_matrix(model, X_test, y_test,\n",
    "                                 display_labels=logisticRegr.classes_,\n",
    "                                 cmap=plt.cm.Blues, normalize='all')"
   ]
  },
  {
   "cell_type": "code",
   "execution_count": 41,
   "metadata": {},
   "outputs": [
    {
     "data": {
      "text/plain": [
       "array(['negative', 'positive'], dtype=object)"
      ]
     },
     "execution_count": 41,
     "metadata": {},
     "output_type": "execute_result"
    }
   ],
   "source": [
    "logisticRegr.classes_"
   ]
  },
  {
   "cell_type": "code",
   "execution_count": 50,
   "metadata": {},
   "outputs": [
    {
     "data": {
      "text/plain": [
       "array([0.66881965])"
      ]
     },
     "execution_count": 50,
     "metadata": {},
     "output_type": "execute_result"
    }
   ],
   "source": [
    "logisticRegr.coef_[:,0]"
   ]
  },
  {
   "cell_type": "code",
   "execution_count": 54,
   "metadata": {},
   "outputs": [],
   "source": [
    "# We can also do cool stuff like make a dataframe with the words and see which\n",
    "# have the highest regression weights -- careful here!\n",
    "\n",
    "# Make a dataframe with the words, coefficients, and classes...\n",
    "recs = []\n",
    "for w,i in vec.vocabulary_.items():\n",
    "    recs.append([str(w)] + list(logisticRegr.coef_[:,i]))\n",
    "# If we only have one class then we only get weight..\n",
    "# df_weights = pd.DataFrame(tripples, columns=['word']+list(logisticRegr.classes_))\n",
    "df_weights = pd.DataFrame(recs, columns=['word', 'weight'])"
   ]
  },
  {
   "cell_type": "code",
   "execution_count": 55,
   "metadata": {},
   "outputs": [
    {
     "data": {
      "text/html": [
       "<div>\n",
       "<style scoped>\n",
       "    .dataframe tbody tr th:only-of-type {\n",
       "        vertical-align: middle;\n",
       "    }\n",
       "\n",
       "    .dataframe tbody tr th {\n",
       "        vertical-align: top;\n",
       "    }\n",
       "\n",
       "    .dataframe thead th {\n",
       "        text-align: right;\n",
       "    }\n",
       "</style>\n",
       "<table border=\"1\" class=\"dataframe\">\n",
       "  <thead>\n",
       "    <tr style=\"text-align: right;\">\n",
       "      <th></th>\n",
       "      <th>word</th>\n",
       "      <th>weight</th>\n",
       "    </tr>\n",
       "  </thead>\n",
       "  <tbody>\n",
       "    <tr>\n",
       "      <th>84</th>\n",
       "      <td>great</td>\n",
       "      <td>2.129611</td>\n",
       "    </tr>\n",
       "    <tr>\n",
       "      <th>254</th>\n",
       "      <td>life</td>\n",
       "      <td>1.907991</td>\n",
       "    </tr>\n",
       "    <tr>\n",
       "      <th>206</th>\n",
       "      <td>very</td>\n",
       "      <td>1.829938</td>\n",
       "    </tr>\n",
       "    <tr>\n",
       "      <th>32</th>\n",
       "      <td>well</td>\n",
       "      <td>1.785682</td>\n",
       "    </tr>\n",
       "    <tr>\n",
       "      <th>205</th>\n",
       "      <td>also</td>\n",
       "      <td>1.687434</td>\n",
       "    </tr>\n",
       "    <tr>\n",
       "      <th>2</th>\n",
       "      <td>most</td>\n",
       "      <td>1.627940</td>\n",
       "    </tr>\n",
       "    <tr>\n",
       "      <th>123</th>\n",
       "      <td>quite</td>\n",
       "      <td>1.413619</td>\n",
       "    </tr>\n",
       "    <tr>\n",
       "      <th>166</th>\n",
       "      <td>many</td>\n",
       "      <td>1.404904</td>\n",
       "    </tr>\n",
       "    <tr>\n",
       "      <th>934</th>\n",
       "      <td>war</td>\n",
       "      <td>1.393081</td>\n",
       "    </tr>\n",
       "    <tr>\n",
       "      <th>500</th>\n",
       "      <td>perfectly</td>\n",
       "      <td>1.386285</td>\n",
       "    </tr>\n",
       "    <tr>\n",
       "      <th>36</th>\n",
       "      <td>he</td>\n",
       "      <td>1.382246</td>\n",
       "    </tr>\n",
       "    <tr>\n",
       "      <th>339</th>\n",
       "      <td>different</td>\n",
       "      <td>1.303922</td>\n",
       "    </tr>\n",
       "    <tr>\n",
       "      <th>117</th>\n",
       "      <td>hilarious</td>\n",
       "      <td>1.293706</td>\n",
       "    </tr>\n",
       "    <tr>\n",
       "      <th>930</th>\n",
       "      <td>excellent</td>\n",
       "      <td>1.255664</td>\n",
       "    </tr>\n",
       "    <tr>\n",
       "      <th>79</th>\n",
       "      <td>true</td>\n",
       "      <td>1.252411</td>\n",
       "    </tr>\n",
       "    <tr>\n",
       "      <th>213</th>\n",
       "      <td>world</td>\n",
       "      <td>1.250867</td>\n",
       "    </tr>\n",
       "    <tr>\n",
       "      <th>383</th>\n",
       "      <td>seen</td>\n",
       "      <td>1.244177</td>\n",
       "    </tr>\n",
       "    <tr>\n",
       "      <th>291</th>\n",
       "      <td>memorable</td>\n",
       "      <td>1.240860</td>\n",
       "    </tr>\n",
       "    <tr>\n",
       "      <th>116</th>\n",
       "      <td>both</td>\n",
       "      <td>1.192632</td>\n",
       "    </tr>\n",
       "    <tr>\n",
       "      <th>427</th>\n",
       "      <td>american</td>\n",
       "      <td>1.167830</td>\n",
       "    </tr>\n",
       "    <tr>\n",
       "      <th>136</th>\n",
       "      <td>perfect</td>\n",
       "      <td>1.167452</td>\n",
       "    </tr>\n",
       "    <tr>\n",
       "      <th>174</th>\n",
       "      <td>fun</td>\n",
       "      <td>1.152518</td>\n",
       "    </tr>\n",
       "    <tr>\n",
       "      <th>743</th>\n",
       "      <td>overall</td>\n",
       "      <td>1.149791</td>\n",
       "    </tr>\n",
       "    <tr>\n",
       "      <th>393</th>\n",
       "      <td>own</td>\n",
       "      <td>1.094232</td>\n",
       "    </tr>\n",
       "    <tr>\n",
       "      <th>126</th>\n",
       "      <td>see</td>\n",
       "      <td>1.093913</td>\n",
       "    </tr>\n",
       "  </tbody>\n",
       "</table>\n",
       "</div>"
      ],
      "text/plain": [
       "          word    weight\n",
       "84       great  2.129611\n",
       "254       life  1.907991\n",
       "206       very  1.829938\n",
       "32        well  1.785682\n",
       "205       also  1.687434\n",
       "2         most  1.627940\n",
       "123      quite  1.413619\n",
       "166       many  1.404904\n",
       "934        war  1.393081\n",
       "500  perfectly  1.386285\n",
       "36          he  1.382246\n",
       "339  different  1.303922\n",
       "117  hilarious  1.293706\n",
       "930  excellent  1.255664\n",
       "79        true  1.252411\n",
       "213      world  1.250867\n",
       "383       seen  1.244177\n",
       "291  memorable  1.240860\n",
       "116       both  1.192632\n",
       "427   american  1.167830\n",
       "136    perfect  1.167452\n",
       "174        fun  1.152518\n",
       "743    overall  1.149791\n",
       "393        own  1.094232\n",
       "126        see  1.093913"
      ]
     },
     "execution_count": 55,
     "metadata": {},
     "output_type": "execute_result"
    }
   ],
   "source": [
    "df_weights.sort_values('weight', ascending=False)[:25]"
   ]
  },
  {
   "cell_type": "code",
   "execution_count": 45,
   "metadata": {},
   "outputs": [
    {
     "data": {
      "text/plain": [
       "74"
      ]
     },
     "execution_count": 45,
     "metadata": {},
     "output_type": "execute_result"
    }
   ],
   "source": []
  },
  {
   "cell_type": "code",
   "execution_count": null,
   "metadata": {},
   "outputs": [],
   "source": []
  }
 ],
 "metadata": {
  "kernelspec": {
   "display_name": "Python 3",
   "language": "python",
   "name": "python3"
  },
  "language_info": {
   "codemirror_mode": {
    "name": "ipython",
    "version": 3
   },
   "file_extension": ".py",
   "mimetype": "text/x-python",
   "name": "python",
   "nbconvert_exporter": "python",
   "pygments_lexer": "ipython3",
   "version": "3.8.3"
  }
 },
 "nbformat": 4,
 "nbformat_minor": 4
}
