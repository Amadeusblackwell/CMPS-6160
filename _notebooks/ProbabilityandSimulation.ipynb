{
 "cells": [
  {
   "cell_type": "markdown",
   "metadata": {},
   "source": [
    "# Probability and Simulation\n"
   ]
  },
  {
   "cell_type": "code",
   "execution_count": null,
   "metadata": {},
   "outputs": [],
   "source": [
    "# Includes and Standard Magic...\n",
    "### Standard Magic and startup initializers.\n",
    "\n",
    "# Load Numpy\n",
    "import numpy as np\n",
    "# Load MatPlotLib\n",
    "import matplotlib\n",
    "import matplotlib.pyplot as plt\n",
    "# Load Pandas\n",
    "import pandas as pd\n",
    "# Load Stats\n",
    "from scipy import stats\n",
    "import seaborn as sns\n",
    "\n",
    "# This lets us show plots inline and also save PDF plots if we want them\n",
    "%matplotlib inline\n",
    "from matplotlib.backends.backend_pdf import PdfPages\n",
    "matplotlib.style.use('fivethirtyeight')\n",
    "\n",
    "# These two things are for Pandas, it widens the notebook and lets us display data easily.\n",
    "from IPython.core.display import display, HTML\n",
    "display(HTML(\"<style>.container { width:95% !important; }</style>\"))\n",
    "\n",
    "# Show a ludicrus number of rows and columns\n",
    "pd.set_option('display.max_rows', 500)\n",
    "pd.set_option('display.max_columns', 500)\n",
    "pd.set_option('display.width', 1000)\n",
    "\n",
    "# Supress scientific notation\n",
    "pd.set_option('display.float_format', lambda x: '%.2f' % x)"
   ]
  },
  {
   "cell_type": "markdown",
   "metadata": {},
   "source": [
    "## Probability and Code!\n",
    "\n",
    "Note we're using [Numpy's probability functions](https://numpy.org/doc/stable/reference/random/index.html), you could also use [Python's](https://docs.python.org/3/library/random.html)"
   ]
  },
  {
   "cell_type": "code",
   "execution_count": null,
   "metadata": {},
   "outputs": [],
   "source": [
    "# Let's make a probability distribution:\n",
    "outcomes = list(range(1,7))\n",
    "outcomes"
   ]
  },
  {
   "cell_type": "code",
   "execution_count": null,
   "metadata": {},
   "outputs": [],
   "source": [
    "#Simulate an outcome..\n",
    "np.random.choice(outcomes)"
   ]
  },
  {
   "cell_type": "code",
   "execution_count": null,
   "metadata": {},
   "outputs": [],
   "source": [
    "# Do it a lot...\n",
    "np.random.choice(outcomes, 20)"
   ]
  },
  {
   "cell_type": "code",
   "execution_count": null,
   "metadata": {},
   "outputs": [],
   "source": [
    "# Graph it!\n",
    "results = pd.DataFrame(np.random.choice(outcomes, 1000))\n",
    "results.plot.hist(bins=np.arange(0.5,7.5, 1))"
   ]
  },
  {
   "cell_type": "code",
   "execution_count": null,
   "metadata": {},
   "outputs": [],
   "source": [
    "# Do it with a biased coin..\n",
    "b = 1.0 / 7.0\n",
    "b1 = 2.0 / 7.0\n",
    "results = pd.DataFrame(np.random.choice(outcomes, 1000, p=[b, b, b1, b, b, b]))\n",
    "results.plot.hist(bins=np.arange(0.5,7.5, 1))"
   ]
  },
  {
   "cell_type": "code",
   "execution_count": null,
   "metadata": {},
   "outputs": [],
   "source": [
    "# Do it for multiple events!\n",
    "die1 = np.random.choice(outcomes, 10000)\n",
    "die2 = np.random.choice(outcomes, 10000)\n",
    "results = pd.DataFrame({'Die1': die1, 'Die2':die2})\n",
    "results.head()"
   ]
  },
  {
   "cell_type": "code",
   "execution_count": null,
   "metadata": {},
   "outputs": [],
   "source": [
    "# Need to add them up...\n",
    "plt.figure(figsize = (12,5))\n",
    "results['sum'] = results[\"Die1\"] + results[\"Die2\"]\n",
    "results['sum'].plot.hist(bins=np.arange(1.5, 13.5, 1), density=True)"
   ]
  },
  {
   "cell_type": "code",
   "execution_count": null,
   "metadata": {},
   "outputs": [],
   "source": [
    "# Default is with replacement but we can do without replacement..\n",
    "people = ['Winona', 'Xanthippe', 'Yvonne', 'Zelda']\n",
    "np.random.choice(people, 3, replace=False)"
   ]
  },
  {
   "cell_type": "markdown",
   "metadata": {},
   "source": [
    "## Looking at Two Variables.\n",
    "\n",
    "Let's roll two dice a bunch of times and see the resutls.\n"
   ]
  },
  {
   "cell_type": "code",
   "execution_count": null,
   "metadata": {},
   "outputs": [],
   "source": [
    "die1 = np.random.choice(outcomes, 100)\n",
    "die2 = np.random.choice(outcomes, 100)\n",
    "results = pd.DataFrame({'Die1': die1, 'Die2':die2})"
   ]
  },
  {
   "cell_type": "code",
   "execution_count": null,
   "metadata": {},
   "outputs": [],
   "source": [
    "counts = pd.crosstab(results['Die1'], results['Die2'])\n",
    "counts"
   ]
  },
  {
   "cell_type": "code",
   "execution_count": null,
   "metadata": {},
   "outputs": [],
   "source": [
    "joint = pd.crosstab(results['Die1'], results['Die2'], normalize=True)\n",
    "joint"
   ]
  },
  {
   "cell_type": "code",
   "execution_count": null,
   "metadata": {},
   "outputs": [],
   "source": [
    "# Now we can roll this up for either die to see it's distribution\n",
    "joint.sum(axis=0)"
   ]
  },
  {
   "cell_type": "code",
   "execution_count": null,
   "metadata": {},
   "outputs": [],
   "source": [
    "# Can also get marginals directly.\n",
    "marginals = pd.crosstab(results['Die1'], results['Die2'], normalize=True, margins=True)\n",
    "marginals"
   ]
  },
  {
   "cell_type": "code",
   "execution_count": null,
   "metadata": {},
   "outputs": [],
   "source": [
    "# Finally, if we want conditional distributions we have to do a bit of work. Let's try to work out\n",
    "# P(Die 1 is a 6 | Die 2 is a 5)\n",
    "\n",
    "counts = pd.crosstab(results['Die1'], results['Die2'])\n",
    "counts"
   ]
  },
  {
   "cell_type": "code",
   "execution_count": null,
   "metadata": {},
   "outputs": [],
   "source": [
    "# We need to get the (Die 2 is a 5 row) and then look at the distribution there..\n",
    "\n",
    "counts[5] / counts[5].sum()"
   ]
  },
  {
   "cell_type": "markdown",
   "metadata": {},
   "source": [
    "## Using Simulation to Answer Probability Questions.\n",
    "\n",
    "In CMPS 2170 we figured out closed form formulas for a set of mutually independent Bernoilli Trials.\n",
    "\n",
    "* Bernoulli Trial: an experiment with two possible outcomes\n",
    "* E.g., flip a coin results in two possible outcomes: head (𝐻) and tail (𝑇)\n",
    "* Independent Bernoulli Trials: a sequence of Bernoulli trails that are mutually independent\n",
    "\n",
    "* Example: What is the probability of the sequence HHHTT for a coin flip sequence with $p$ for H and $1-p$ for T?\n",
    "  * $p^3(1-p)^2$.\n",
    "\n",
    "Recall: The probability of exactly $k$ successes in $n$ independent Bernoulli trials, with probability of success $p$ and probability of failure $q = 1 − p$, is $C(n,k)p^kq^{n-k}$ where $C(n,k)$ is $n$ choose $k$."
   ]
  },
  {
   "cell_type": "code",
   "execution_count": null,
   "metadata": {},
   "outputs": [],
   "source": [
    "# Setup a biased coin and flip it a bunch..\n",
    "coin_results = np.random.choice([\"Heads\", \"Tails\"], 100, p=[0.75, 0.25])\n",
    "coin_results"
   ]
  },
  {
   "cell_type": "markdown",
   "metadata": {},
   "source": [
    "## A More complex Question..\n",
    "\n",
    "* What is the probability of getting 60 or more heads if I flip 100 coins?\n",
    "* Approximation through simulation:\n",
    "  1. Figure out how to do one experiment (i.e., flip 100 coins).\n",
    "  2. Run the experiment a bunch of times.\n",
    "  3. Find the fraction of times where number of heads >= 60."
   ]
  },
  {
   "cell_type": "code",
   "execution_count": null,
   "metadata": {},
   "outputs": [],
   "source": [
    "# Flip 100 coins and count heads...\n",
    "coin_results = np.random.choice([\"Heads\", \"Tails\"], 100, p=[0.75, 0.25])\n",
    "print(coin_results == 'Heads')\n",
    "print(np.count_nonzero(coin_results == 'Heads'))\n"
   ]
  },
  {
   "cell_type": "code",
   "execution_count": null,
   "metadata": {},
   "outputs": [],
   "source": [
    "# Wrap it up and do it a bunch...\n",
    "# Note we're using Numpy here for broadcasting -- numpy arrays are imuteable so \n",
    "# it's a tad more akaward in places..\n",
    "n_reps = 10000\n",
    "\n",
    "def exp():\n",
    "    coin_results = np.random.choice([\"Heads\", \"Tails\"], 100, p=[0.50, 0.50])\n",
    "    return np.count_nonzero(coin_results == 'Heads')\n",
    "\n",
    "head_counts = np.array([])\n",
    "for i in range(n_reps):\n",
    "    head_counts = np.append(head_counts, exp())"
   ]
  },
  {
   "cell_type": "code",
   "execution_count": null,
   "metadata": {},
   "outputs": [],
   "source": [
    "# Figure it out...\n",
    "print(np.count_nonzero(head_counts >= 60))\n",
    "print(np.count_nonzero(head_counts >= 60) / n_reps)"
   ]
  },
  {
   "cell_type": "markdown",
   "metadata": {},
   "source": [
    "If we work out the math we need at least 60 H so we have to add up quite a few things...\n",
    "$\\sum^{100}_{k=60} C(100, k)p^kq^n-k$"
   ]
  },
  {
   "cell_type": "code",
   "execution_count": null,
   "metadata": {},
   "outputs": [],
   "source": [
    "# Using simiulation we can also look at the trials\n",
    "n_reps = 1000\n",
    "\n",
    "head_counts = np.array([])\n",
    "for i in range(n_reps):\n",
    "    head_counts = np.append(head_counts, exp())\n",
    "\n",
    "results = pd.DataFrame(head_counts)\n",
    "ax = results.plot.hist()\n",
    "plt.xlim(20,70)\n",
    "plt.axvline(np.mean(head_counts), color='red')\n",
    "plt.title(f\"Mean: {np.mean(head_counts)}\")\n",
    "plt.show()"
   ]
  },
  {
   "cell_type": "markdown",
   "metadata": {},
   "source": [
    "## Settle the Monty Hall Thing..."
   ]
  },
  {
   "cell_type": "code",
   "execution_count": null,
   "metadata": {},
   "outputs": [],
   "source": [
    "def simulate_monty_hall():\n",
    "    behind_picked_door = np.random.choice(['Car', 'Goat 1', 'Goat 2'])\n",
    "    \n",
    "    if behind_picked_door == 'Car':\n",
    "        winning_strategy = 'Stay'\n",
    "    else:\n",
    "        winning_strategy = 'Switch'\n",
    "        \n",
    "    print(behind_picked_door, 'was behind the door. Winning strategy:', winning_strategy)\n",
    "    return winning_strategy\n",
    "simulate_monty_hall()"
   ]
  },
  {
   "cell_type": "code",
   "execution_count": null,
   "metadata": {},
   "outputs": [],
   "source": [
    "# Run it a bunch...\n",
    "n_repetitions = 10000\n",
    "\n",
    "winning_strategies = np.array([])\n",
    "for i in np.arange(n_repetitions):\n",
    "    winning_strategy = simulate_monty_hall()\n",
    "    winning_strategies = np.append(winning_strategies, winning_strategy)\n"
   ]
  },
  {
   "cell_type": "code",
   "execution_count": null,
   "metadata": {},
   "outputs": [],
   "source": [
    "np.count_nonzero(winning_strategies == 'Switch') / n_repetitions"
   ]
  },
  {
   "cell_type": "code",
   "execution_count": null,
   "metadata": {},
   "outputs": [],
   "source": [
    "np.count_nonzero(winning_strategies == 'Stay') / n_repetitions"
   ]
  },
  {
   "cell_type": "code",
   "execution_count": null,
   "metadata": {},
   "outputs": [],
   "source": []
  }
 ],
 "metadata": {
  "kernelspec": {
   "display_name": "Python 3",
   "language": "python",
   "name": "python3"
  },
  "language_info": {
   "codemirror_mode": {
    "name": "ipython",
    "version": 3
   },
   "file_extension": ".py",
   "mimetype": "text/x-python",
   "name": "python",
   "nbconvert_exporter": "python",
   "pygments_lexer": "ipython3",
   "version": "3.8.3"
  }
 },
 "nbformat": 4,
 "nbformat_minor": 4
}
