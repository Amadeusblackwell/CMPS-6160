{
 "cells": [
  {
   "cell_type": "markdown",
   "metadata": {},
   "source": [
    "# Intro to Pandas, Reading Data, and Plotting\n",
    "\n",
    "The cell below loads up a few libraries and does some initialization.  In this notebook we'll do a few basic data manipulations and see the Pandas formatting for the first time and make some simple graphs.\n"
   ]
  },
  {
   "cell_type": "code",
   "execution_count": null,
   "metadata": {},
   "outputs": [],
   "source": [
    "### Standard Magic and startup initializers.\n",
    "\n",
    "# Load Numpy\n",
    "import numpy as np\n",
    "# Load MatPlotLib\n",
    "import matplotlib\n",
    "import matplotlib.pyplot as plt\n",
    "# Load Pandas\n",
    "import pandas as pd\n",
    "\n",
    "# This lets us show plots inline and also save PDF plots if we want them\n",
    "%matplotlib inline\n",
    "from matplotlib.backends.backend_pdf import PdfPages\n",
    "matplotlib.style.use('fivethirtyeight')\n",
    "# Seaborn is a plotting package for Pandas that we'll try out...\n",
    "import seaborn as sns\n",
    "\n",
    "# Make the fonts a little bigger..\n",
    "font = {'size'   : 24}\n",
    "matplotlib.rc('font', **font)\n",
    "matplotlib.rcParams['mathtext.fontset'] = 'cm'\n",
    "matplotlib.rcParams['pdf.fonttype'] = 42\n",
    "\n",
    "# These two things are for Pandas, it widens the notebook and lets us display data easily.\n",
    "from IPython.core.display import display, HTML\n",
    "display(HTML(\"<style>.container { width:95% !important; }</style>\"))"
   ]
  },
  {
   "cell_type": "markdown",
   "metadata": {},
   "source": [
    "## Working with some real data and Pandas!\n",
    "\n",
    "Opening and reading CSV files is very easy with Pandas [Read CSV Documentation](https://pandas.pydata.org/pandas-docs/stable/reference/api/pandas.read_csv.html)"
   ]
  },
  {
   "cell_type": "code",
   "execution_count": null,
   "metadata": {},
   "outputs": [],
   "source": [
    "# Open the NBA Salaries file.\n",
    "\n",
    "df_nba = pd.read_csv(\"./data/nba_salaries.csv\")"
   ]
  },
  {
   "cell_type": "code",
   "execution_count": null,
   "metadata": {},
   "outputs": [],
   "source": [
    "# Display gives us a basic table.  Note that we can index and slice this in many different ways.\n",
    "display(df_nba[:5])"
   ]
  },
  {
   "cell_type": "code",
   "execution_count": null,
   "metadata": {},
   "outputs": [],
   "source": [
    "# Look at a specific person... a little clunky.\n",
    "df_nba.loc[df_nba['PLAYER'] == \"Stephen Curry\"]"
   ]
  },
  {
   "cell_type": "code",
   "execution_count": null,
   "metadata": {},
   "outputs": [],
   "source": []
  },
  {
   "cell_type": "code",
   "execution_count": null,
   "metadata": {},
   "outputs": [],
   "source": [
    "# Can filter for a whole set\n",
    "df_nba.loc[df_nba['POSITION'] == \"PG\"][:5]\n",
    "\n",
    "# Again note that we can slice this different ways.."
   ]
  },
  {
   "cell_type": "code",
   "execution_count": null,
   "metadata": {},
   "outputs": [],
   "source": [
    "# Can also see a team...\n",
    "df_nba.loc[df_nba['TEAM'] == \"New Orleans Pelicans\"]"
   ]
  },
  {
   "cell_type": "code",
   "execution_count": null,
   "metadata": {},
   "outputs": [],
   "source": [
    "# Look at all PGs sorted by salary...\n",
    "df_nba.loc[df_nba['POSITION'] == \"PG\"].sort_values(\"'15-'16 SALARY\", ascending=False)[:5]"
   ]
  },
  {
   "cell_type": "markdown",
   "metadata": {},
   "source": [
    "Note that the above sorting does not happen *in place* unless we explicitly tell Pandas to do so -- [Documentation for sort_values](https://pandas.pydata.org/pandas-docs/stable/reference/api/pandas.DataFrame.sort_values.html)"
   ]
  },
  {
   "cell_type": "code",
   "execution_count": null,
   "metadata": {},
   "outputs": [],
   "source": [
    "# Once we sort by values it does not stay the same unless we overwrite the table or do it in place...\n",
    "df_nba.loc[df_nba['POSITION'] == \"PG\"][:5]"
   ]
  },
  {
   "cell_type": "code",
   "execution_count": null,
   "metadata": {},
   "outputs": [],
   "source": [
    "# Maybe see what the position distribution is...\n",
    "sns.countplot(df_nba['POSITION'])"
   ]
  },
  {
   "cell_type": "markdown",
   "metadata": {},
   "source": [
    "## We can also use Pandas to read a CSV that is online... \n"
   ]
  },
  {
   "cell_type": "code",
   "execution_count": null,
   "metadata": {},
   "outputs": [],
   "source": [
    "#df_class_survey = pd.read_csv(\"./Data Science Day 1 Questions (Responses) - Form Responses 1.csv\")\n",
    "\n",
    "# We can also read directly from a google sheet if we want.  Note that at the end we have to add `/export?gid=1081980213&format=csv`\n",
    "# The gid field tell us what sheet to load and the format gives us csv\n",
    "df_class_survey = pd.read_csv(\"https://docs.google.com/spreadsheets/d/1d4C9HEIOkL7x_W4rYCRsflt_Mw7I6DGLUbAAUwwIqUM/export?gid=1081980213&format=csv\")"
   ]
  },
  {
   "cell_type": "code",
   "execution_count": null,
   "metadata": {},
   "outputs": [],
   "source": [
    "df_class_survey[:5]"
   ]
  },
  {
   "cell_type": "code",
   "execution_count": null,
   "metadata": {},
   "outputs": [],
   "source": [
    "# Maybe see what the position distribution is...\n",
    "sns.countplot(df_class_survey['I use Jupyter Notebooks'])\n"
   ]
  },
  {
   "cell_type": "code",
   "execution_count": null,
   "metadata": {},
   "outputs": [],
   "source": [
    "# Maybe see what the position distribution is...\n",
    "g = sns.countplot(df_class_survey['I use Jupyter Notebooks'])\n",
    "g.set_xticklabels(g.get_xticklabels(),rotation=-85)\n",
    "display(g)"
   ]
  },
  {
   "cell_type": "markdown",
   "metadata": {},
   "source": [
    "# That was fun, let's try to read some books..."
   ]
  },
  {
   "cell_type": "code",
   "execution_count": null,
   "metadata": {},
   "outputs": [],
   "source": [
    "from urllib.request import urlopen \n",
    "import re\n",
    "def read_url(url): \n",
    "    return re.sub('\\\\s+', ' ', urlopen(url).read().decode())"
   ]
  },
  {
   "cell_type": "code",
   "execution_count": null,
   "metadata": {},
   "outputs": [],
   "source": [
    "\n",
    "# Read two books, fast!\n",
    "\n",
    "huck_finn_url = 'https://www.inferentialthinking.com/data/huck_finn.txt'\n",
    "huck_finn_text = read_url(huck_finn_url)\n",
    "huck_finn_chapters = huck_finn_text.split('CHAPTER ')[44:]\n",
    "\n",
    "little_women_url = 'https://www.inferentialthinking.com/data/little_women.txt'\n",
    "little_women_text = read_url(little_women_url)\n",
    "little_women_chapters = little_women_text.split('CHAPTER ')[1:]"
   ]
  },
  {
   "cell_type": "code",
   "execution_count": null,
   "metadata": {
    "scrolled": true
   },
   "outputs": [],
   "source": [
    "huck_finn_chapters[2]"
   ]
  },
  {
   "cell_type": "code",
   "execution_count": null,
   "metadata": {},
   "outputs": [],
   "source": [
    "# Turn it into a data frame..\n",
    "df_huck = pd.DataFrame(huck_finn_chapters, columns=[\"Text\"])"
   ]
  },
  {
   "cell_type": "code",
   "execution_count": null,
   "metadata": {},
   "outputs": [],
   "source": [
    "display(df_huck[:5])"
   ]
  },
  {
   "cell_type": "code",
   "execution_count": null,
   "metadata": {},
   "outputs": [],
   "source": [
    "# Count how many times we see each character...\n",
    "# Here we make a data frame out of a dictionary where the index is the column name\n",
    "# and the values are the column\n",
    "counts = pd.DataFrame({\n",
    "        'Jim':np.char.count(huck_finn_chapters, 'Jim'),\n",
    "        'Tom':np.char.count(huck_finn_chapters, 'Tom'),\n",
    "        'Huck':np.char.count(huck_finn_chapters, 'Huck')\n",
    "    })"
   ]
  },
  {
   "cell_type": "code",
   "execution_count": null,
   "metadata": {},
   "outputs": [],
   "source": [
    "counts[:5]"
   ]
  },
  {
   "cell_type": "code",
   "execution_count": null,
   "metadata": {},
   "outputs": [],
   "source": [
    "ax = counts.cumsum().plot(figsize=(10,8))\n",
    "ax.set_xlabel(\"Chapter\")\n",
    "ax.set_ylabel(\"Number of Times\")\n",
    "#ax.set_ylim((-5,310))\n",
    "plt.show()"
   ]
  },
  {
   "cell_type": "markdown",
   "metadata": {},
   "source": [
    "There are lots of options for the figures ... Note that here we are using [Pandas Plot](https://pandas.pydata.org/pandas-docs/version/0.23/generated/pandas.DataFrame.plot.html) which is a wrapper around [MatPlot's Plot](https://matplotlib.org/3.1.1/api/_as_gen/matplotlib.pyplot.plot.html)."
   ]
  },
  {
   "cell_type": "code",
   "execution_count": null,
   "metadata": {},
   "outputs": [],
   "source": [
    "ax = counts.cumsum().plot(figsize=(10,8), fontsize=(5),\n",
    "                                          lw=2, \n",
    "                                          markersize=12,\n",
    "                                          style=['X-','o-.','v--','s:','d:','*-.'])\n",
    "ax.set_xlabel(\"Chapter\")\n",
    "ax.set_ylabel(\"Number of Times\")\n",
    "ax.set_ylim((-5,310))\n",
    "plt.show()"
   ]
  },
  {
   "cell_type": "code",
   "execution_count": null,
   "metadata": {},
   "outputs": [],
   "source": [
    "# Now for Little women...\n",
    "\n",
    "people = ['Amy', 'Beth', 'Jo', 'Laurie', 'Meg']\n",
    "people_counts = {pp: np.char.count(little_women_chapters, pp) for pp in people}\n"
   ]
  },
  {
   "cell_type": "code",
   "execution_count": null,
   "metadata": {},
   "outputs": [],
   "source": [
    "people_counts.keys()"
   ]
  },
  {
   "cell_type": "code",
   "execution_count": null,
   "metadata": {},
   "outputs": [],
   "source": [
    "people_counts['Beth']"
   ]
  },
  {
   "cell_type": "code",
   "execution_count": null,
   "metadata": {},
   "outputs": [],
   "source": [
    "# Make a pandas table...\n",
    "counts = pd.DataFrame(people_counts)\n",
    "counts[:5]"
   ]
  },
  {
   "cell_type": "code",
   "execution_count": null,
   "metadata": {},
   "outputs": [],
   "source": [
    "ax = counts.cumsum().plot(figsize=(10,8), fontsize=(15),\n",
    "                                          lw=2, \n",
    "                                          markersize=12,\n",
    "                                          style=['X-','o-.','v--','s:','d:','*-.'])\n",
    "ax.set_xlabel(\"Chapter\")\n",
    "ax.set_ylabel(\"Number of Times\")\n",
    "plt.show()"
   ]
  },
  {
   "cell_type": "markdown",
   "metadata": {},
   "source": [
    "## Something more fun...\n",
    "\n",
    "Inspired by the [Inferential Thinking Book](https://www.inferentialthinking.com/chapters/01/3/2/Another_Kind_Of_Character) let's do some more analysis on the text that we have loaded up.\n",
    "\n",
    "First let's count the number of periods and the total number of characters in each of the books."
   ]
  },
  {
   "cell_type": "code",
   "execution_count": null,
   "metadata": {},
   "outputs": [],
   "source": [
    "# Recall that each element in the array corresponds to a chapter.\n",
    "print(huck_finn_chapters[0][:50])\n",
    "print(little_women_chapters[0][:50])"
   ]
  },
  {
   "cell_type": "code",
   "execution_count": null,
   "metadata": {},
   "outputs": [],
   "source": [
    "chars_periods_huck_finn = pd.DataFrame({\n",
    "        'Huck Finn Chapter Length':[len(s) for s in huck_finn_chapters],\n",
    "        'Number of Periods':np.char.count(huck_finn_chapters, '.')\n",
    "        })\n",
    "chars_periods_little_women = pd.DataFrame({\n",
    "        'Little Women Chapter Length': [len(s) for s in little_women_chapters],\n",
    "        'Number of Periods': np.char.count(little_women_chapters, '.')\n",
    "        })"
   ]
  },
  {
   "cell_type": "code",
   "execution_count": null,
   "metadata": {},
   "outputs": [],
   "source": [
    "display(chars_periods_huck_finn[:5])\n",
    "display(chars_periods_little_women[:5])"
   ]
  },
  {
   "cell_type": "markdown",
   "metadata": {},
   "source": [
    "What do we notice about the above?  It seems like *Little Women* is significantly longer per chapter than *Huck Finn*.  Let's try plotting this relationship on the same graph.\n",
    "\n",
    "To do this we are going to use the `scatter` function from [MatPlotLib](https://matplotlib.org/3.1.1/api/_as_gen/matplotlib.pyplot.scatter.html)"
   ]
  },
  {
   "cell_type": "code",
   "execution_count": null,
   "metadata": {},
   "outputs": [],
   "source": [
    "plt.figure(figsize=(6, 6))\n",
    "plt.scatter(chars_periods_huck_finn[\"Number of Periods\"], \n",
    "              chars_periods_huck_finn[\"Huck Finn Chapter Length\"], \n",
    "              color='darkblue')\n",
    "\n",
    "plt.scatter(chars_periods_little_women[\"Number of Periods\"], \n",
    "              chars_periods_little_women[\"Little Women Chapter Length\"], \n",
    "              color='gold')\n",
    "\n",
    "plt.xlabel('Number of periods in chapter')\n",
    "plt.ylabel('Number of characters in chapter')"
   ]
  },
  {
   "cell_type": "markdown",
   "metadata": {},
   "source": [
    "The above plot shows us a few things:\n",
    "1. Little Women is much longer on average than Huck\n",
    "2. There seems to be a linear relationship between the number of characters and the number of periods\n",
    "\n",
    "If we look at all the chapters that have 100 periods we see they have 10,000 - 15,000 characters.. or roughly 100-150 characters per sentence.  Seems like a Tweet."
   ]
  },
  {
   "cell_type": "code",
   "execution_count": null,
   "metadata": {},
   "outputs": [],
   "source": [
    "# Let's formally find the relationship...\n",
    "from scipy import stats\n",
    "\n",
    "# First let's make the tables the same..\n",
    "chars_periods_huck_finn.columns = ['characters', 'periods']\n",
    "chars_periods_little_women.columns = ['characters', 'periods']\n",
    "display(chars_periods_huck_finn[:5])\n",
    "len(chars_periods_huck_finn)"
   ]
  },
  {
   "cell_type": "code",
   "execution_count": null,
   "metadata": {},
   "outputs": [],
   "source": [
    "# Now we are going to concatinate the data together -- this is our first join operation!\n",
    "\n",
    "merged = pd.concat([chars_periods_huck_finn, chars_periods_little_women])\n",
    "merged"
   ]
  },
  {
   "cell_type": "code",
   "execution_count": null,
   "metadata": {},
   "outputs": [],
   "source": [
    "len(merged)"
   ]
  },
  {
   "cell_type": "code",
   "execution_count": null,
   "metadata": {},
   "outputs": [],
   "source": [
    "slope, intercept, r_value, p_value, std_err = stats.linregress(merged['periods'],merged['characters'])"
   ]
  },
  {
   "cell_type": "code",
   "execution_count": null,
   "metadata": {},
   "outputs": [],
   "source": [
    "slope"
   ]
  },
  {
   "cell_type": "code",
   "execution_count": null,
   "metadata": {},
   "outputs": [],
   "source": [
    "intercept"
   ]
  },
  {
   "cell_type": "code",
   "execution_count": null,
   "metadata": {},
   "outputs": [],
   "source": [
    "r_value"
   ]
  },
  {
   "cell_type": "code",
   "execution_count": null,
   "metadata": {},
   "outputs": [],
   "source": [
    "p_value"
   ]
  },
  {
   "cell_type": "code",
   "execution_count": null,
   "metadata": {},
   "outputs": [],
   "source": [
    "std_err"
   ]
  },
  {
   "cell_type": "code",
   "execution_count": null,
   "metadata": {},
   "outputs": [],
   "source": [
    "line = slope * merged['periods'] + intercept"
   ]
  },
  {
   "cell_type": "markdown",
   "metadata": {},
   "source": [
    "Now we can add the line above to our plot using the [plot function](https://matplotlib.org/3.1.1/api/_as_gen/matplotlib.pyplot.plot.html)."
   ]
  },
  {
   "cell_type": "code",
   "execution_count": null,
   "metadata": {},
   "outputs": [],
   "source": [
    "plt.figure(figsize=(10, 10))\n",
    "plt.scatter(chars_periods_huck_finn[\"periods\"], \n",
    "              chars_periods_huck_finn[\"characters\"], \n",
    "              color='darkblue')\n",
    "\n",
    "plt.scatter(chars_periods_little_women[\"periods\"], \n",
    "              chars_periods_little_women[\"characters\"], \n",
    "              color='gold')\n",
    "\n",
    "plt.plot(merged['periods'], line, lw=1, ls=':')\n",
    "\n",
    "plt.xlabel('Number of periods in chapter')\n",
    "plt.ylabel('Number of characters in chapter')"
   ]
  },
  {
   "cell_type": "code",
   "execution_count": null,
   "metadata": {},
   "outputs": [],
   "source": []
  }
 ],
 "metadata": {
  "kernelspec": {
   "display_name": "Python 3",
   "language": "python",
   "name": "python3"
  },
  "language_info": {
   "codemirror_mode": {
    "name": "ipython",
    "version": 3
   },
   "file_extension": ".py",
   "mimetype": "text/x-python",
   "name": "python",
   "nbconvert_exporter": "python",
   "pygments_lexer": "ipython3",
   "version": "3.8.3"
  }
 },
 "nbformat": 4,
 "nbformat_minor": 2
}
